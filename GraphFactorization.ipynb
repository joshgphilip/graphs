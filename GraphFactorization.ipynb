{
  "nbformat": 4,
  "nbformat_minor": 0,
  "metadata": {
    "colab": {
      "provenance": [],
      "authorship_tag": "ABX9TyPRYFw8jRsZoJtbQiv8nyyn",
      "include_colab_link": true
    },
    "kernelspec": {
      "name": "python3",
      "display_name": "Python 3"
    },
    "language_info": {
      "name": "python"
    }
  },
  "cells": [
    {
      "cell_type": "markdown",
      "metadata": {
        "id": "view-in-github",
        "colab_type": "text"
      },
      "source": [
        "<a href=\"https://colab.research.google.com/github/joshgphilip/graphs/blob/main/GraphFactorization.ipynb\" target=\"_parent\"><img src=\"https://colab.research.google.com/assets/colab-badge.svg\" alt=\"Open In Colab\"/></a>"
      ]
    },
    {
      "cell_type": "code",
      "execution_count": 1,
      "metadata": {
        "colab": {
          "base_uri": "https://localhost:8080/"
        },
        "id": "YngsyqlQ-MCE",
        "outputId": "eaaf9a52-9465-47a4-d9dc-8feb2000d2f0"
      },
      "outputs": [
        {
          "output_type": "stream",
          "name": "stdout",
          "text": [
            "scipy:  1.7.3\n",
            "nx:  3.0\n",
            "Starting\n"
          ]
        }
      ],
      "source": [
        "import tensorflow as tf\n",
        "import pandas as pd\n",
        "import numpy as np\n",
        "import networkx as nx\n",
        "import torch\n",
        "import gensim\n",
        "import scipy\n",
        "import matplotlib.pyplot as plt\n",
        "from sklearn.manifold import TSNE\n",
        "# !pip install --upgrade scipy==1.8.0 networkx \n",
        "import scipy\n",
        "import networkx as nx\n",
        "print('scipy: ', scipy.__version__)\n",
        "print('nx: ', nx.__version__)\n",
        "print('Starting')"
      ]
    },
    {
      "cell_type": "code",
      "source": [],
      "metadata": {
        "id": "6ZU2oZuW-Rh7"
      },
      "execution_count": null,
      "outputs": []
    }
  ]
}